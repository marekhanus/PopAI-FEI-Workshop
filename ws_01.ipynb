{
 "cells": [
  {
   "cell_type": "markdown",
   "id": "d4e99064-36ef-4c7d-9591-cc93ef206e2b",
   "metadata": {
    "jp-MarkdownHeadingCollapsed": true
   },
   "source": [
    "# VSB,FEI - Generative AI Workshop\n",
    "\n",
    "The aim of the workshop is to get an overview of data analysis and deep learning techniques in the generative artificial intelligence (GenAI) domain.\n",
    "\n",
    "* We will use [Python](https://www.python.org/), [Huggingface](https://huggingface.co/) and [Tensorflow](https://www.tensorflow.org/).\n",
    "\n",
    "**The exercise will cover these topics:**\n",
    "* GenAI tools for image data using Huggingface models\n",
    "<!-- * LLM usage for text generating with Huggingface API -->\n",
    "* Vector representation of text data and searching for similar words using vector distance \n",
    "* Design of own deep learning model for generating \"Harry Potter\"-like text using Keras framework from scratch"
   ]
  },
  {
   "cell_type": "markdown",
   "id": "435ce64b-6cd8-4c36-abcc-2fcb7cca449b",
   "metadata": {},
   "source": [
    "# 🔎 What is the Generative AI? 🔎\n",
    "* What is usually a *backbone* of these systems?\n",
    "* What is an algorithm?\n",
    "* What is a machine/deep learning?\n",
    "* How does a machine or deep learning differ?\n",
    "* How does machine/deep learning differ from algorithms designed by humans?\n",
    "\n",
    "![meme01](https://github.com/rasvob/PopAI-VSB-Workshop/blob/main/images/dl_meme_02.jpg?raw=true)\n",
    "\n",
    "## Can you give some examples of usage of such models?\n",
    "* 💡 Images, text, audio, video 💡\n",
    "* Are these areas somehow interconnected?\n",
    "\n",
    "## 🔎 Do you know any famous models from this area?"
   ]
  },
  {
   "cell_type": "markdown",
   "id": "ed6799b8-1842-42a2-9bea-a1a131a7f1cd",
   "metadata": {},
   "source": [
    "## Let's install the basic libraries first\n",
    "\n",
    "* We will use HuggingFace library for the **Stable Diffusion** model\n",
    "    * 🔎 What is a **Text-to-Image** task?\n",
    "    * We will use this model https://huggingface.co/stabilityai/stable-diffusion-xl-base-1.0\n",
    "\n",
    "* HuggingFace is an open source data science and machine learning platform.\n",
    "    * It acts as a hub for AI experts and enthusiasts—like a GitHub for AI.\n",
    "\n",
    "* You can download pre-trained models from the Hub and use them leveraging simple unified API\n"
   ]
  },
  {
   "cell_type": "code",
   "execution_count": null,
   "id": "afd9d18c-466f-417d-89ea-aaabd1d7c78d",
   "metadata": {
    "scrolled": true
   },
   "outputs": [],
   "source": [
    "!pip install transformers diffusers"
   ]
  },
  {
   "cell_type": "code",
   "execution_count": null,
   "id": "22652e29-a4ea-4f13-92ea-9c27a54239cb",
   "metadata": {
    "scrolled": true
   },
   "outputs": [],
   "source": [
    "!pip install invisible_watermark transformers accelerate safetensors"
   ]
  },
  {
   "cell_type": "markdown",
   "id": "cdff7a0f-a289-403b-8964-c1d46c47c7e8",
   "metadata": {},
   "source": [
    "## Running own Stable Diffusion instance is quite easy\n",
    "* You just need to download the pretrained model and load it into the GPU\n",
    "*💡 There are many different models in the HuggingFace Hub"
   ]
  },
  {
   "cell_type": "code",
   "execution_count": null,
   "id": "cd7df121-adb8-4aac-8e61-6d7af55b25a7",
   "metadata": {},
   "outputs": [],
   "source": [
    "from diffusers import DiffusionPipeline\n",
    "import torch\n",
    "\n",
    "pipe = DiffusionPipeline.from_pretrained(\"stabilityai/stable-diffusion-xl-base-1.0\", torch_dtype=torch.float16, use_safetensors=True, variant=\"fp16\")\n",
    "pipe.to(\"cuda\")"
   ]
  },
  {
   "cell_type": "markdown",
   "id": "d7730fba-19f8-4640-8c03-42728217c68f",
   "metadata": {},
   "source": [
    "## Now the model is ready and you can start to use it\n",
    "* 💡 The most important part is so-called **prompt** definition\n",
    "### 🔎 What is the **prompt**?"
   ]
  },
  {
   "cell_type": "markdown",
   "id": "f79b9fed-8979-404f-a639-7f287bcb4d73",
   "metadata": {},
   "source": [
    "# Let's create our own image using the model! 🙂\n",
    "\n",
    "#### 💡 TIP: Run the code multiple times if you do not like the result 🙂"
   ]
  },
  {
   "cell_type": "code",
   "execution_count": null,
   "id": "849f2cb6-9fe3-46ef-becb-bf61767d99e5",
   "metadata": {},
   "outputs": [],
   "source": [
    "prompt = \"A knight riding a majestic lion\"\n",
    "\n",
    "image = pipe(prompt=prompt).images[0]\n",
    "\n",
    "image"
   ]
  },
  {
   "cell_type": "markdown",
   "id": "6c383046-c2cf-4fa8-bea8-55dc37cd95cf",
   "metadata": {},
   "source": [
    "## The image can be very easily saved"
   ]
  },
  {
   "cell_type": "code",
   "execution_count": null,
   "id": "60d11b6a-7e88-4cc2-8cb8-d1f5b881486f",
   "metadata": {},
   "outputs": [],
   "source": [
    "image.save('sd_output.png')"
   ]
  },
  {
   "cell_type": "markdown",
   "id": "c4a4ea7c-6e4d-42cb-9627-0fbe519ad7a4",
   "metadata": {},
   "source": [
    "# The most difficult part is to define the prompt\n",
    "* There are several tips&tricks how to get maximum out of the model\n",
    "* We will try some of them"
   ]
  },
  {
   "cell_type": "markdown",
   "id": "5354c468-e58a-4f5a-ab4f-380b427154b4",
   "metadata": {},
   "source": [
    "## You can add keywords after the main prompt delimited by commas to be more specific"
   ]
  },
  {
   "cell_type": "code",
   "execution_count": null,
   "id": "2283ae84-a8f7-4d12-9430-01cacdb614ed",
   "metadata": {},
   "outputs": [],
   "source": [
    "prompt = \"A knight riding a majestic lion, cyberpunk, japan city background\"\n",
    "\n",
    "image = pipe(prompt=prompt).images[0]\n",
    "\n",
    "image"
   ]
  },
  {
   "cell_type": "markdown",
   "id": "3204a979-8ab7-4026-bfb9-01090dd110e0",
   "metadata": {},
   "source": [
    "## You can put an emphasis on a keyword by adding [] [around]"
   ]
  },
  {
   "cell_type": "code",
   "execution_count": null,
   "id": "0e52a009-e8b6-4547-8c46-5fa3676c2539",
   "metadata": {},
   "outputs": [],
   "source": [
    "prompt = \"A knight riding a majestic lion, cyberpunk, japan city background, [black and white]\"\n",
    "\n",
    "image = pipe(prompt=prompt).images[0]\n",
    "\n",
    "image"
   ]
  },
  {
   "cell_type": "markdown",
   "id": "1c7e32b6-9415-435c-bada-d8ac288dc6fd",
   "metadata": {},
   "source": [
    "# Very common use-case is to use some specific painter style\n",
    "* You can see results of multiple styles at https://www.urania.ai/top-sd-artists"
   ]
  },
  {
   "cell_type": "markdown",
   "id": "ef345a05-ee87-452c-b41f-e28e227cf85b",
   "metadata": {},
   "source": [
    "## Leonid Afremov"
   ]
  },
  {
   "cell_type": "code",
   "execution_count": null,
   "id": "3d405b57-79be-41a7-993a-a7df9d1bebd0",
   "metadata": {},
   "outputs": [],
   "source": [
    "prompt = \"A knight riding a majestic lion, [Leonid Afremov]\"\n",
    "\n",
    "image = pipe(prompt=prompt).images[0]\n",
    "\n",
    "image"
   ]
  },
  {
   "cell_type": "markdown",
   "id": "65a8ac00-c9ab-407a-8d80-81f3a2d87a7a",
   "metadata": {},
   "source": [
    "## Vincent Van Gogh"
   ]
  },
  {
   "cell_type": "code",
   "execution_count": null,
   "id": "0c151b8c-88fa-4156-8569-037e24ad8581",
   "metadata": {},
   "outputs": [],
   "source": [
    "prompt = \"A knight riding a majestic lion, [Vincent Van Gogh], cyberpunk\"\n",
    "\n",
    "image = pipe(prompt=prompt).images[0]\n",
    "\n",
    "image"
   ]
  },
  {
   "cell_type": "markdown",
   "id": "309116ed-9681-4487-99ea-0c5c465f706b",
   "metadata": {},
   "source": [
    "# Sometimes it is good to specify if you want to have 3D or 2D image, otherwise it is random\n",
    "* You can use 2d, sketch for 2D\n",
    "* 3d, unreal engine, unity, octane render for 3D"
   ]
  },
  {
   "cell_type": "code",
   "execution_count": null,
   "id": "6470d518-11cf-467d-abd5-7e64e2a77aec",
   "metadata": {},
   "outputs": [],
   "source": [
    "prompt = \"A knight riding a majestic lion, 2d, sketch, [color]\"\n",
    "\n",
    "image = pipe(prompt=prompt).images[0]\n",
    "\n",
    "image"
   ]
  },
  {
   "cell_type": "code",
   "execution_count": null,
   "id": "055f60ec-aab8-4f42-9a19-bd1bfa1749b5",
   "metadata": {},
   "outputs": [],
   "source": [
    "prompt = \"A knight riding a majestic lion, 3d, unreal engine, unity, octane render\"\n",
    "\n",
    "image = pipe(prompt=prompt).images[0]\n",
    "\n",
    "image"
   ]
  },
  {
   "cell_type": "markdown",
   "id": "431444e1-868c-42cb-8e7f-1761cf534f5a",
   "metadata": {},
   "source": [
    "# Also some specific styling is possible, e.g. anime\n",
    "* 💡 It is a good idea to add some artists style as well"
   ]
  },
  {
   "cell_type": "code",
   "execution_count": null,
   "id": "a3778de9-fcbe-468f-b3db-8bbda3469453",
   "metadata": {},
   "outputs": [],
   "source": [
    "prompt = \"A knight riding a majestic lion, anime, studio ghibli, akira toriyama\"\n",
    "\n",
    "image = pipe(prompt=prompt).images[0]\n",
    "\n",
    "image"
   ]
  },
  {
   "cell_type": "markdown",
   "id": "fb221ba2-3414-4103-9a9c-172fbb674c99",
   "metadata": {},
   "source": [
    "# If you want to have some more detailed and vibrant image it is possible to add keywords like:\n",
    "* hyper realism, detailed digital painting, vibrant colors, artstation"
   ]
  },
  {
   "cell_type": "code",
   "execution_count": null,
   "id": "c225cbf9-bef3-4c83-834f-ae347f9473ec",
   "metadata": {},
   "outputs": [],
   "source": [
    "prompt = \"A knight riding a majestic lion, hyper realism, detailed digital painting, vibrant colors, artstation\"\n",
    "\n",
    "image = pipe(prompt=prompt).images[0]\n",
    "image"
   ]
  },
  {
   "cell_type": "markdown",
   "id": "c9a8ef5a-d9b1-4593-babb-14869ba687c7",
   "metadata": {},
   "source": [
    "# You can experiment with anything you can imagine 🙂"
   ]
  },
  {
   "cell_type": "code",
   "execution_count": null,
   "id": "7373e553-ccc4-4e3f-9a88-42db826df93e",
   "metadata": {},
   "outputs": [],
   "source": [
    "prompt = \"A knight riding a majestic lion, cinematic, [field of flowers], [minecraft], stormwind city\"\n",
    "\n",
    "image = pipe(prompt=prompt).images[0]\n",
    "\n",
    "image"
   ]
  },
  {
   "cell_type": "markdown",
   "id": "1248ebe1-cb3c-4be5-be74-8949e8a7a106",
   "metadata": {},
   "source": [
    "# If you are interested in this topic I recommend to visit [lexica.art](https://lexica.art/) or [https://www.reddit.com/r/StableDiffusion/](https://www.reddit.com/r/StableDiffusion/) 🙂"
   ]
  },
  {
   "cell_type": "markdown",
   "id": "905fea1b-1143-4e3f-9d17-d052d66799fe",
   "metadata": {},
   "source": [
    "# Final task\n",
    "1.  Visit https://lexica.art/\n",
    "2.  Find some image that you like with a more complicated query\n",
    "3.  Try to take the query and run it using your model\n",
    "4.  Was the result the same? Why?\n",
    "5.  Create your own prompt, generate and save the image"
   ]
  }
 ],
 "metadata": {
  "kernelspec": {
   "display_name": "Python 3 (ipykernel)",
   "language": "python",
   "name": "python3"
  },
  "language_info": {
   "codemirror_mode": {
    "name": "ipython",
    "version": 3
   },
   "file_extension": ".py",
   "mimetype": "text/x-python",
   "name": "python",
   "nbconvert_exporter": "python",
   "pygments_lexer": "ipython3",
   "version": "3.11.0rc1"
  }
 },
 "nbformat": 4,
 "nbformat_minor": 5
}
